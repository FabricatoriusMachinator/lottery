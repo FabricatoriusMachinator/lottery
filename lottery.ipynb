{
 "cells": [
  {
   "cell_type": "markdown",
   "metadata": {},
   "source": [
    "### Lottery\n",
    "\n",
    "This program is designed to pick a random person from the class. Everytime somone is picked in the lottery they're removed from pool until it's empty and pool is reset"
   ]
  },
  {
   "cell_type": "code",
   "execution_count": 71,
   "metadata": {},
   "outputs": [],
   "source": [
    "import pandas as pd\n",
    "import os\n",
    "import random"
   ]
  },
  {
   "cell_type": "markdown",
   "metadata": {},
   "source": [
    "This constant stores the students in the class by name"
   ]
  },
  {
   "cell_type": "code",
   "execution_count": 72,
   "metadata": {},
   "outputs": [],
   "source": [
    "student = {\"Students\": [\"Marius\", \"Magnus\", \"Aleksander\", \"Dennis\", \"Henrik\", \"Ada\", \"Hibak\", \"Ole Emil\", \"Ingeborg\"]}\n",
    "df_student = pd.DataFrame(student)\n"
   ]
  },
  {
   "cell_type": "markdown",
   "metadata": {},
   "source": [
    "Check if the file exists, if it doesn't it will create the file"
   ]
  },
  {
   "cell_type": "code",
   "execution_count": 73,
   "metadata": {},
   "outputs": [],
   "source": [
    "if not os.path.exists(\"students.csv\"):\n",
    "    df_student.to_csv(\"students.csv\")\n"
   ]
  },
  {
   "cell_type": "markdown",
   "metadata": {},
   "source": [
    "It the opens the file and stores in a variable that will be used for the draw"
   ]
  },
  {
   "cell_type": "code",
   "execution_count": 74,
   "metadata": {},
   "outputs": [],
   "source": [
    "df_draw = pd.read_csv(\"students.csv\")"
   ]
  },
  {
   "cell_type": "markdown",
   "metadata": {},
   "source": [
    "Should the df copied from the CSV be empty, it will copy the student data frame"
   ]
  },
  {
   "cell_type": "code",
   "execution_count": 75,
   "metadata": {},
   "outputs": [],
   "source": [
    "if df_draw.empty:\n",
    "    df_draw = df_student"
   ]
  },
  {
   "cell_type": "markdown",
   "metadata": {},
   "source": [
    "Here is the drawing logic, it gets a random int based on the length of the data fram, since the index starts at 0 len is subtracted by 1 in order to make it so it doesn't pick something that would be out of range in the data frame.\n",
    "\n",
    "It then drops the selected student from the data frame and resets the index so there aren't any holes for the next pick."
   ]
  },
  {
   "cell_type": "code",
   "execution_count": 76,
   "metadata": {},
   "outputs": [
    {
     "name": "stdout",
     "output_type": "stream",
     "text": [
      "Ingeborg\n"
     ]
    }
   ],
   "source": [
    "random_index = random.randint(0, len(df_draw)-1)\n",
    "print(df_draw.loc[random_index, \"Students\"])\n",
    "df_draw.drop(index=random_index, inplace=True)\n",
    "df_draw.reset_index(drop=True, inplace=True)"
   ]
  },
  {
   "cell_type": "markdown",
   "metadata": {},
   "source": [
    "Finally it stores the remaining student in the CSV. So the next time the program as is run the picked students won't appear unless the csv is empty and gets filled in again."
   ]
  },
  {
   "cell_type": "code",
   "execution_count": 77,
   "metadata": {},
   "outputs": [],
   "source": [
    "df_draw.to_csv(\"students.csv\")"
   ]
  }
 ],
 "metadata": {
  "kernelspec": {
   "display_name": "Python 3",
   "language": "python",
   "name": "python3"
  },
  "language_info": {
   "codemirror_mode": {
    "name": "ipython",
    "version": 3
   },
   "file_extension": ".py",
   "mimetype": "text/x-python",
   "name": "python",
   "nbconvert_exporter": "python",
   "pygments_lexer": "ipython3",
   "version": "3.11.6"
  }
 },
 "nbformat": 4,
 "nbformat_minor": 2
}
